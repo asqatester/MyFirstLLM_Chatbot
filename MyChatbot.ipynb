{
  "nbformat": 4,
  "nbformat_minor": 0,
  "metadata": {
    "colab": {
      "provenance": [],
      "authorship_tag": "ABX9TyM7xejbcOkRd+4v84hmKKq4",
      "include_colab_link": true
    },
    "kernelspec": {
      "name": "python3",
      "display_name": "Python 3"
    },
    "language_info": {
      "name": "python"
    }
  },
  "cells": [
    {
      "cell_type": "markdown",
      "metadata": {
        "id": "view-in-github",
        "colab_type": "text"
      },
      "source": [
        "<a href=\"https://colab.research.google.com/github/asqatester/MyFirstLLM_Chatbot/blob/main/MyChatbot.ipynb\" target=\"_parent\"><img src=\"https://colab.research.google.com/assets/colab-badge.svg\" alt=\"Open In Colab\"/></a>"
      ]
    },
    {
      "cell_type": "markdown",
      "source": [
        "Instalando o SDK do Google"
      ],
      "metadata": {
        "id": "MKEl9cWcebhZ"
      }
    },
    {
      "cell_type": "code",
      "execution_count": 14,
      "metadata": {
        "id": "Xm43Zgq8eFmD"
      },
      "outputs": [],
      "source": [
        "!pip install -q -U google-generativeai"
      ]
    },
    {
      "cell_type": "markdown",
      "source": [
        "# #CRIANDO UM CLIENTE DO GEMINI"
      ],
      "metadata": {
        "id": "OFvvn5Oisq-C"
      }
    },
    {
      "cell_type": "code",
      "source": [
        "# Import the Python SDK\n",
        "import google.generativeai as genai\n",
        "from google.colab import userdata\n",
        "api_key = userdata.get('SECRET_KEY')\n",
        "#GOOGLE_API_KEY='aqui iria a sua apikey'\n",
        "#genai.configure(api_key=GOOGLE_API_KEY)\n",
        "genai.configure(api_key=api_key)"
      ],
      "metadata": {
        "id": "Jwj_BXuSsUMW"
      },
      "execution_count": 21,
      "outputs": []
    },
    {
      "cell_type": "markdown",
      "source": [
        "Listar os modelos disponíveis. Verifica na lista de modelos (list_models()) se nos métodos de geração soportados pela Google tem algo com a expressão generateContent (para geração de conteúdo)"
      ],
      "metadata": {
        "id": "jJARewVDs8cK"
      }
    },
    {
      "cell_type": "code",
      "source": [
        "for m in genai.list_models():\n",
        "  if 'generateContent' in m.supported_generation_methods:\n",
        "    print(m.name)"
      ],
      "metadata": {
        "colab": {
          "base_uri": "https://localhost:8080/",
          "height": 139
        },
        "id": "MQyswG_Cs4AO",
        "outputId": "d8ce60b7-c2f8-4653-c74d-89873a99e320"
      },
      "execution_count": 22,
      "outputs": [
        {
          "output_type": "stream",
          "name": "stdout",
          "text": [
            "models/gemini-1.0-pro\n",
            "models/gemini-1.0-pro-001\n",
            "models/gemini-1.0-pro-latest\n",
            "models/gemini-1.0-pro-vision-latest\n",
            "models/gemini-1.5-pro-latest\n",
            "models/gemini-pro\n",
            "models/gemini-pro-vision\n"
          ]
        }
      ]
    },
    {
      "cell_type": "markdown",
      "source": [
        "# **CONFIGURAÇÕES DE EXECUÇÃO (config run):**\n",
        "**candidate_count -** *quantas alternativas ou opções de resposta ele retorna;*\n",
        "**temperature -** *trata da aleatoriedade das palavras na resposta. valor maior, mais criativo, valor menor, escopo reduzido;*\n"
      ],
      "metadata": {
        "id": "IWIMFI8ywjs7"
      }
    },
    {
      "cell_type": "code",
      "source": [
        "#Obs.: O NOME DO DICIONÁRIO PODE SER QUALQUER UM. aqui chamaos de config_execute\n",
        "config_execute = {\n",
        "    'candidate_count': 1, #quantas alternativas ou opções de resposta ele retorna\n",
        "    'temperature': 0.5 #trata da aleatoriedade das palavras na resposta. valor maior, mais criativo, valor menor, escopo reduzido;\n",
        "}"
      ],
      "metadata": {
        "id": "mjxpp_3OuUBP"
      },
      "execution_count": 40,
      "outputs": []
    },
    {
      "cell_type": "markdown",
      "source": [
        "# **Configurações de segurança (safety_settings):**\n",
        "**- HARASSMENT** *(abuso, assédio)*;\n",
        "**- HATE** *(ódio)*;\n",
        "**- SEXUAL** *(explícito sexualmente)*;\n",
        "**- DANGEROUS** *(conteúdo perigoso)*\n",
        "\n",
        "https://ai.google.dev/gemini-api/docs/safety-settings?hl=pt-br"
      ],
      "metadata": {
        "id": "G17tYImOyZeQ"
      }
    },
    {
      "cell_type": "code",
      "source": [
        "#Configurações de segurança (safety_settings)\n",
        "#Obs.: O NOME DO DICIONÁRIO PODE SER QUALQUER UM. Aqui chamamos de config_security\n",
        "#BLOCK_NONE, BLOCK_LOW_AND_ABOVE, BLOCK_MEDIUM_AND_ABOVE, BLOCK_ONLY_HIGH\n",
        "config_security = {\n",
        "    'HARASSMENT': \"BLOCK_MEDIUM_AND_ABOVE\",\n",
        "    'HATE': \"BLOCK_MEDIUM_AND_ABOVE\",\n",
        "    'SEXUAL': \"BLOCK_NONE\",\n",
        "    'DANGEROUS': \"BLOCK_NONE\"\n",
        "}"
      ],
      "metadata": {
        "id": "3T4L178qxyGw"
      },
      "execution_count": 53,
      "outputs": []
    },
    {
      "cell_type": "markdown",
      "source": [
        "# **Inicializando o modelo**\n",
        "- #então dentre os modelos listados anteriormente escolhemos o mais estável, no caso gemini-1.0-pro e chamamos os dicionários que criamos anteriomente das configurações de execução e de segurança"
      ],
      "metadata": {
        "id": "N6HAkN9Z2LNr"
      }
    },
    {
      "cell_type": "code",
      "source": [
        "meu_modelo = genai.GenerativeModel(model_name='gemini-1.0-pro',\n",
        "                                generation_config=config_execute,\n",
        "                                safety_settings=config_security)"
      ],
      "metadata": {
        "id": "dS9lprif2Ox4"
      },
      "execution_count": 55,
      "outputs": []
    },
    {
      "cell_type": "markdown",
      "source": [
        "CRIAR UM RESPONSE PARA TESTAR O MODELO IMPLEMENTADO"
      ],
      "metadata": {
        "id": "HY784_5y5q20"
      }
    },
    {
      "cell_type": "code",
      "source": [
        "response = meu_modelo.generate_content(\"end\")\n",
        "print(response.text)#o text é importante a fim de suprimir que exiba parâmetros que não são de interesse. reitre o text e execute pra ver"
      ],
      "metadata": {
        "colab": {
          "base_uri": "https://localhost:8080/",
          "height": 34
        },
        "id": "o_u34KNP5Zmp",
        "outputId": "13c90919-75a6-4544-c373-ba98b0b9d9c9"
      },
      "execution_count": 56,
      "outputs": [
        {
          "output_type": "stream",
          "name": "stdout",
          "text": [
            "|\n"
          ]
        }
      ]
    },
    {
      "cell_type": "markdown",
      "source": [
        "AGORA SIM, CRIANDO O CHATBOT PROPRIAMENTE DITO"
      ],
      "metadata": {
        "id": "UFBen7517POg"
      }
    },
    {
      "cell_type": "code",
      "source": [
        "#start_chat é um método que dentre outros tem um parâmetro history, pq um chat de modo geralm guarda o histórioc de diálogo\n",
        "chat = meu_modelo.start_chat(history=[])"
      ],
      "metadata": {
        "id": "s8Fx6_hb7N9Y"
      },
      "execution_count": 57,
      "outputs": []
    },
    {
      "cell_type": "markdown",
      "source": [
        "AGORA CRIO A ESTRUTURA DE INTERAÇÃO, QUE PRECISA DE UM CAMPO PARA DIGITAR\n",
        "PARA ISSO CRIAMOS UM PROMPT QUE RECEBERÁ DADOS VINDOS DE UM CAMPO INPUT"
      ],
      "metadata": {
        "id": "P5n_6xVD80qT"
      }
    },
    {
      "cell_type": "code",
      "source": [
        "prompt = input('Esperando prompt: ')\n",
        "\n",
        "while prompt != 'acabei':\n",
        "  response = chat.send_message(prompt)\n",
        "  print('Resposta: ', response.text, '\\n')\n",
        "  prompt = input('Esperando prompt: ')"
      ],
      "metadata": {
        "colab": {
          "base_uri": "https://localhost:8080/",
          "height": 139
        },
        "id": "SZ9skV8y8crU",
        "outputId": "6d8eb97a-c125-4166-be65-5ba9adaccef2"
      },
      "execution_count": 59,
      "outputs": [
        {
          "name": "stdout",
          "output_type": "stream",
          "text": [
            "Esperando prompt: olá\n",
            "Resposta:  Olá! Como posso ajudá-lo hoje? \n",
            "\n",
            "Esperando prompt: fim\n",
            "Resposta:  Obrigado por usar meus serviços. Estou sempre aqui para ajudar se você precisar de mim novamente. \n",
            "\n",
            "Esperando prompt: acabei\n"
          ]
        }
      ]
    },
    {
      "cell_type": "code",
      "source": [
        "chat.history"
      ],
      "metadata": {
        "id": "TrQGpX_-K1D4"
      },
      "execution_count": null,
      "outputs": []
    },
    {
      "cell_type": "code",
      "source": [
        "#Melhorando a visualização\n",
        "#Código disponível em https://ai.google.dev/tutorials/python_quickstart#import_packages\n",
        "import textwrap\n",
        "from IPython.display import display\n",
        "from IPython.display import Markdown #auxilia na formatação e estilização\n",
        "\n",
        "def to_markdown(text):\n",
        "  text = text.replace('•', '  *')\n",
        "  return Markdown(textwrap.indent(text, '> ', predicate=lambda _: True))\n",
        "\n",
        "#Imprimindo o histórico\n",
        "for message in chat.history:\n",
        "  display(to_markdown(f'**{message.role}**: {message.parts[0].text}'))\n",
        "  print('-------------------------------------------')"
      ],
      "metadata": {
        "id": "4ATL0bvfKviV"
      },
      "execution_count": null,
      "outputs": []
    }
  ]
}